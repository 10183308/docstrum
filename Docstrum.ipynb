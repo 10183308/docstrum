{
 "cells": [
  {
   "cell_type": "code",
   "execution_count": null,
   "metadata": {
    "collapsed": false
   },
   "outputs": [],
   "source": [
    "#!/usr/bin/python\n",
    "# find . -name '.DS_Store' -type f -delete\n",
    "# Chulwoo Pack\n",
    "\n",
    "import sys\n",
    "import os\n",
    "from page import Page\n",
    "\n",
    "SHOW_STEPS = True    # change this to false if you just want to see the final output for each page.\n",
    "SAVE_OUTPUT = True\n",
    "SAVE_DOCSTRUM = True\n",
    "\n",
    "inputFolder = os.path.join('images')\n",
    "outputFolder = os.path.join('output')\n",
    "\n",
    "    \n",
    "inputPath = os.path.join(inputFolder, os.listdir(inputFolder)[0])\n",
    "outputPath = os.path.join(outputFolder, os.listdir(inputFolder)[0])\n",
    "\n",
    "page = Page(inputPath, SHOW_STEPS, SAVE_DOCSTRUM)\n",
    "#page = Page(inputPath, SHOW_STEPS)\n",
    "    \n",
    "if SAVE_OUTPUT:\n",
    "    page.save(outputPath)  # save a copy of what is displayed. Used for getting images for the paper.\n",
    "    \n",
    "page.show((800, 800))"
   ]
  },
  {
   "cell_type": "code",
   "execution_count": null,
   "metadata": {
    "collapsed": false
   },
   "outputs": [],
   "source": [
    "# LINE EXTRACTION TESTING\n",
    "\n",
    "import sys\n",
    "import os\n",
    "from page import Page\n",
    "\n",
    "import cv2\n",
    "import math\n",
    "import numpy\n",
    "import subprocess\n",
    "import os\n",
    "\n",
    "import colors\n",
    "import geometry as g\n",
    "from box import Box\n",
    "import text\n",
    "from dimension import Dimension\n",
    "from stopwatch import Stopwatch\n",
    "import numpy\n",
    "import matplotlib.pyplot as plt\n",
    "import ntpath\n",
    "\n",
    "\n",
    "SHOW_STEPS = True    # change this to false if you just want to see the final output for each page.\n",
    "SAVE_OUTPUT = True\n",
    "SAVE_DOCSTRUM = False\n",
    "\n",
    "inputFolder = os.path.join('images')\n",
    "outputFolder = os.path.join('output')\n",
    "\n",
    "    \n",
    "inputPath = os.path.join(inputFolder, os.listdir(inputFolder)[0])\n",
    "outputPath = os.path.join(outputFolder, os.listdir(inputFolder)[0])\n",
    "\n",
    "page = Page(inputPath, SHOW_STEPS, SAVE_DOCSTRUM)\n",
    "\n",
    "\n",
    "if True:\n",
    "    page.save(outputPath)  # save a copy of what is displayed. Used for getting images for the paper.\n",
    "    \n",
    "page.show((800, 800))"
   ]
  },
  {
   "cell_type": "code",
   "execution_count": null,
   "metadata": {
    "collapsed": false
   },
   "outputs": [],
   "source": [
    "for my_line in my_lines:\n",
    "    my_line.group = None\n",
    "    #print(my_line.group)"
   ]
  },
  {
   "cell_type": "code",
   "execution_count": null,
   "metadata": {
    "collapsed": false,
    "scrolled": true
   },
   "outputs": [],
   "source": [
    "#from __future__ import division\n",
    "#i=0\n",
    "#j=5\n",
    "\n",
    "#SHOW_DETAIL = True\n",
    "SHOW_DETAIL = False\n",
    "\n",
    "# Sorting lines\n",
    "my_lines = page.lines\n",
    "my_lines.sort(key=lambda line:((line.start.y+line.end.y)/2,(line.start.x+line.end.x)/2))\n",
    "#my_lines[0].start.x = 2\n",
    "#my_lines[0].start.y = 0\n",
    "#my_lines[0].end.x = 6\n",
    "#my_lines[0].end.y = 0\n",
    "\n",
    "#my_lines[5].start.x = 1\n",
    "#my_lines[5].start.y = 1\n",
    "#my_lines[5].end.x = 5\n",
    "#my_lines[5].end.y = 3\n",
    "\n",
    "#my_lines[0].group = None\n",
    "#my_lines[5].group = None\n",
    "\n",
    "EPS = 3#1e-3\n",
    "group_idx = 0\n",
    "threshold_angle = 1.0\n",
    "threshold_perpendist = 1.3 * 60.0\n",
    "threshold_overlap    = 1.0\n",
    "threshold_paralldist = 1.5 * 40.0\n",
    "\n",
    "for idx_my_line, my_line in enumerate(my_lines):\n",
    "    if(idx_my_line+1 == len(my_lines)-1):\n",
    "        break\n",
    "    i = idx_my_line\n",
    "    for j in range(i+1,len(my_lines)-1):\n",
    "    #for j in range(i+1,30):\n",
    "        sameGroup = False\n",
    "        ################################\n",
    "        # CALCULATE GEOMETRIC FEATURES #\n",
    "        ################################\n",
    "        # Point setting\n",
    "        x_O_i = my_lines[i].start.x\n",
    "        #y_O_i = my_lines[i].start.y\n",
    "        y_O_i = page.image.shape[0] - my_lines[i].start.y\n",
    "        x_F_i = my_lines[i].end.x\n",
    "        #y_F_i = my_lines[i].end.y\n",
    "        y_F_i = page.image.shape[0] - my_lines[i].end.y \n",
    "\n",
    "        x_O_j = my_lines[j].start.x\n",
    "        #y_O_j = my_lines[j].start.y\n",
    "        y_O_j = page.image.shape[0] - my_lines[j].start.y\n",
    "        x_F_j = my_lines[j].end.x\n",
    "        #y_F_j = my_lines[j].end.y\n",
    "        y_F_j = page.image.shape[0] - my_lines[j].end.y\n",
    "        \n",
    "        delta_x_i = abs(x_F_i - x_O_i)\n",
    "        delta_y_i = abs(y_F_i - y_O_i)\n",
    "        delta_x_j = abs(x_F_j - x_O_j)\n",
    "        delta_y_j = abs(y_F_j - y_O_j)\n",
    "        \n",
    "        # ith or jth line is dot, so skip it\n",
    "        if ((delta_x_i == 0 and delta_y_i == 0) or (delta_x_j == 0 and delta_y_j == 0)):\n",
    "            continue\n",
    "            \n",
    "        if SHOW_DETAIL:\n",
    "            print(\"\\n****************************************************************\")\n",
    "            print(i, my_lines[i].points)\n",
    "            print(j, my_lines[j].points)\n",
    "            print(\"i:\",x_O_i,y_O_i,\"-\",x_F_i,y_F_i)\n",
    "            print(\"j:\",x_O_j,y_O_j,\"-\",x_F_j,y_F_j)\n",
    "            \n",
    "        # Calculate angle\n",
    "        theta_i_j = math.atan2(delta_y_j,delta_x_j-math.atan2(delta_y_i,delta_x_i))\n",
    "        if SHOW_DETAIL:\n",
    "            print(\"Angle:\",theta_i_j)\n",
    "\n",
    "        # Calculate overlap\n",
    "        #if delta_x_j == 0:\n",
    "        #    delta_x_j = 0.1\n",
    "        #if delta_y_i == 0:\n",
    "        #    delta_y_i = 0.1\n",
    "        #if delta_y_j == 0:\n",
    "        #    delta_y_j = 0.1\n",
    "        #if delta_x_i == 0:\n",
    "        #    delta_x_i = 0.1\n",
    "\n",
    "\n",
    "        x_A_j = (x_O_i*delta_x_i*delta_x_j + x_O_j*delta_y_i*delta_y_j + delta_x_j*delta_y_i*(y_O_i-y_O_j))/(delta_y_i*delta_y_j + delta_x_i*delta_x_j + EPS)\n",
    "        if (delta_x_j != 0):\n",
    "            y_A_j = (delta_y_j/delta_x_j)*(x_A_j - x_O_j) + y_O_j\n",
    "        else:\n",
    "            x_A_j = y_O_j\n",
    "\n",
    "        x_B_j = (x_F_i*delta_x_i*delta_x_j + x_F_j*delta_y_i*delta_y_j + delta_x_j*delta_y_i*(y_F_i-y_F_j))/(delta_y_i*delta_y_j + delta_x_i*delta_x_j + EPS)\n",
    "        if (delta_x_j != 0):\n",
    "            y_B_j = (delta_y_j/delta_x_j)*(x_A_j - x_F_j) + y_F_j\n",
    "        else:\n",
    "            x_B_j = y_F_j\n",
    "\n",
    "        x_middle_candidates = [x_O_j, x_F_j, x_A_j, x_B_j]\n",
    "        x_middle_candidates.sort()\n",
    "        y_middle_candidates = [y_O_j, y_F_j, y_A_j, y_B_j]\n",
    "        y_middle_candidates.sort()\n",
    "\n",
    "        x_C_j = x_middle_candidates[-2]\n",
    "        y_C_j = y_middle_candidates[-2]\n",
    "\n",
    "        x_D_j = x_middle_candidates[-3]\n",
    "        y_D_j = y_middle_candidates[-3]\n",
    "        if SHOW_DETAIL:\n",
    "            print(\"x_A_j,y_A_j\",x_A_j,y_A_j)\n",
    "            print(\"x_B_j,y_B_j\",x_B_j,y_B_j)\n",
    "            print(\"x_C_j,y_C_j\",x_C_j,y_C_j)\n",
    "            print(\"x_D_j,y_D_j\",x_D_j,y_D_j)\n",
    "\n",
    "        if ((x_O_j <= x_C_j <= x_F_j and y_O_j <= y_C_j <= y_F_j) or (x_O_i <= x_C_j <= x_F_i and y_O_i <= x_C_j <= y_F_i)) and ((x_O_j <= x_D_j <= x_F_j and y_O_j <= y_D_j <= y_F_j) or (x_O_i <= x_D_j <= x_F_i and y_O_i <= y_D_j <= y_F_i)):\n",
    "            overlap = True\n",
    "        else:\n",
    "            overlap = False\n",
    "        # Force to be true; no overlap is required in the default mode\n",
    "        #overlap = True\n",
    "\n",
    "        p_j = (math.sqrt(math.pow(y_D_j-y_C_j,2)+math.pow(x_D_j-x_C_j,2)))/2.0\n",
    "        l_j = math.sqrt(math.pow(y_F_j-y_O_j,2)+math.pow(x_F_j-x_O_j,2))\n",
    "        if (l_j == 0):\n",
    "            l_j = 0.1\n",
    "        if overlap:\n",
    "            p_i_j = p_j/l_j\n",
    "        else:\n",
    "            p_i_j = -p_j/l_j\n",
    "        \n",
    "        if SHOW_DETAIL:\n",
    "            print(\"Overlap?\",overlap)\n",
    "            print(\"p_j:\",p_j)\n",
    "            print(\"p_i_j:\",p_i_j)\n",
    "\n",
    "        # Calculate parallel_dist\n",
    "        if overlap:\n",
    "            d_i_j_a = p_j\n",
    "        else:\n",
    "            d_i_j_a = -p_j\n",
    "        if SHOW_DETAIL:\n",
    "            print(\"parallel_dist: \",d_i_j_a)\n",
    "\n",
    "        # Calculate perpend_dist\n",
    "        x_M_j = (x_C_j + x_D_j)/2.0\n",
    "        y_M_j = (y_C_j + y_D_j)/2.0\n",
    "        if SHOW_DETAIL:\n",
    "            print(\"x_M_j,y_M_j\",x_M_j,y_M_j)\n",
    "            print(\"delta_x_i:\",delta_x_i)\n",
    "            print(\"delta_y_i:\",delta_y_i)\n",
    "            print(\"delta_x_j:\",delta_x_j)\n",
    "            print(\"delta_y_j:\",delta_y_j)\n",
    "            \n",
    "        if delta_x_i != 0.0 and delta_x_i != 0.0:\n",
    "            d_e_i_j = ((x_M_j - x_O_i) - (y_M_j - y_O_i)*delta_x_i/(delta_y_i + EPS))/((delta_x_i**2)/(delta_y_i**2 + EPS) + 1)**0.5\n",
    "            #((x_M_j - x_O_i) - (y_M_j - y_O_i)*delta_x_i/(delta_y_i + EPS))/(math.pow(math.pow(delta_x_i,2)/math.pow(delta_y_i,2)+1,0.5) + EPS)\n",
    "        elif delta_y_i == 0.0:\n",
    "            d_e_i_j = y_M_j - y_O_i  \n",
    "        elif delta_x_i == 0.0:\n",
    "            d_e_i_j = x_M_j - x_O_i\n",
    "        d_e_i_j = abs(d_e_i_j)\n",
    "        \n",
    "        if SHOW_DETAIL:\n",
    "            print(\"perpend_dist: \",d_e_i_j)\n",
    "\n",
    "        ######################\n",
    "        # DECIDING GROUPNESS #\n",
    "        #######################\n",
    "        # 1. angle check\n",
    "        if theta_i_j < threshold_angle:\n",
    "            if SHOW_DETAIL: print(\"... Angle ok!\")\n",
    "        # 2. perpend_dist check\n",
    "            if 0 < d_e_i_j < threshold_perpendist:\n",
    "                if SHOW_DETAIL: print(\"... Perpendicular ok!\")\n",
    "        # 3.a. overlap check\n",
    "        # 3.b. parallel_dist check\n",
    "                if ((overlap and p_i_j < threshold_overlap)):\n",
    "                    if SHOW_DETAIL: print(\"... Overlap & p_i_j ok!\")\n",
    "                    # Group!\n",
    "                    sameGroup = True\n",
    "                elif (abs(d_i_j_a) < threshold_paralldist):\n",
    "                    if SHOW_DETAIL: print(\"... Parallel ok!\")\n",
    "                    # Group!\n",
    "                    sameGroup = True\n",
    "                    \n",
    "        if SHOW_DETAIL:\n",
    "            print(\"same group? \",sameGroup)\n",
    "        if sameGroup:\n",
    "            if SHOW_DETAIL:\n",
    "                print(\"before group idx: \",group_idx)\n",
    "                print(\"before i's group: \", my_lines[i].group)\n",
    "                print(\"before j's group: \", my_lines[j].group)\n",
    "            if (my_lines[i].group == None) and (my_lines[j].group == None):\n",
    "                if SHOW_DETAIL:\n",
    "                    print(\"... case 1\")\n",
    "                # Assign to a new block\n",
    "                group_idx = group_idx + 1\n",
    "                my_lines[i].group = group_idx\n",
    "                my_lines[j].group = group_idx\n",
    "            elif (my_lines[i].group == None):\n",
    "                if SHOW_DETAIL: print(\"... case 2\")\n",
    "                # Unassigned text-line is assigned to the block of the other\n",
    "                my_lines[i].group = my_lines[j].group\n",
    "            elif (my_lines[j].group == None):\n",
    "                if SHOW_DETAIL: print(\"... case 3\")\n",
    "                # Unassigned text-line is assigned to the block of the other\n",
    "                my_lines[j].group = my_lines[i].group\n",
    "            if SHOW_DETAIL: print(\"after group idx: \",group_idx)\n",
    "            if SHOW_DETAIL: print(\"after i's group: \", my_lines[i].group)\n",
    "            if SHOW_DETAIL: print(\"after j's group: \", my_lines[j].group)\n",
    "            #else:\n",
    "                # Block merge\n",
    "\n",
    "print(\"Done!\")"
   ]
  },
  {
   "cell_type": "code",
   "execution_count": null,
   "metadata": {
    "collapsed": false
   },
   "outputs": [],
   "source": [
    "import cv2\n",
    "image = page.image.copy()\n",
    "for my_line in my_lines:\n",
    "    #print(my_line.start.x)\n",
    "#    print my_line.group\n",
    "    if my_line.group == None:\n",
    "        blue  = 0\n",
    "        green = 0 \n",
    "        red   = 0\n",
    "    else:\n",
    "        blue = (my_line.group*100)%255\n",
    "        green = (my_line.group*200)%255\n",
    "        red = (my_line.group*300)%255\n",
    "        \n",
    "    #print(blue,green,red)\n",
    "    cv2.line(image, (my_line.start.x,my_line.start.y), (my_line.end.x,my_line.end.y), (blue,green,red),30)\n",
    "    \n",
    "cv2.imwrite(outputPath, image) \n",
    "maxDimension = Dimension(800, 800)\n",
    "displayDimension = Dimension(image.shape[1], image.shape[0])\n",
    "displayDimension.fitInside(maxDimension)\n",
    "image = cv2.resize(image, tuple(displayDimension))\n",
    "cv2.namedWindow('title', cv2.CV_WINDOW_AUTOSIZE)\n",
    "cv2.imshow('grouped', image)\n",
    "cv2.waitKey()\n",
    "cv2.destroyAllWindows()"
   ]
  },
  {
   "cell_type": "code",
   "execution_count": null,
   "metadata": {
    "collapsed": false
   },
   "outputs": [],
   "source": [
    "for my_line in my_lines:\n",
    "    my_line.group = None\n",
    "    #print(my_line.group)"
   ]
  },
  {
   "cell_type": "code",
   "execution_count": null,
   "metadata": {
    "collapsed": false
   },
   "outputs": [],
   "source": [
    "\n",
    "#########################\n",
    "# TESTING FINDING PEAKS #\n",
    "#########################\n",
    "\n",
    "from scipy.signal import find_peaks_cwt\n",
    "cb = [3, 2, 5,3,5, 7, 8, 8, 8, 9, 16, 15, 14, 14, 15, 16, 17, 17, 26 ,34, 24, 34, 36]\n",
    "indexes = find_peaks_cwt(cb, numpy.arange(1, 40))"
   ]
  },
  {
   "cell_type": "code",
   "execution_count": null,
   "metadata": {
    "collapsed": false
   },
   "outputs": [],
   "source": [
    "\n",
    "print((3813+4061)/2,(112+112)/2)#8\n",
    "print((2980+3453)/2,(114+116)/2) #11\n"
   ]
  },
  {
   "cell_type": "code",
   "execution_count": null,
   "metadata": {
    "collapsed": false
   },
   "outputs": [],
   "source": [
    "for character in page.words[0].characters:\n",
    "    #print(dir(character))\n",
    "    print(character.y)"
   ]
  },
  {
   "cell_type": "code",
   "execution_count": null,
   "metadata": {
    "collapsed": false
   },
   "outputs": [],
   "source": [
    "print(my_lines[0].group)\n",
    "print(my_lines[5].group)\n",
    "print(sameGroup)"
   ]
  },
  {
   "cell_type": "code",
   "execution_count": null,
   "metadata": {
    "collapsed": false
   },
   "outputs": [],
   "source": [
    "x_middle_candidates"
   ]
  },
  {
   "cell_type": "code",
   "execution_count": null,
   "metadata": {
    "collapsed": false
   },
   "outputs": [],
   "source": [
    "0.5*20/2"
   ]
  },
  {
   "cell_type": "code",
   "execution_count": null,
   "metadata": {
    "collapsed": false
   },
   "outputs": [],
   "source": [
    "#dir(words)\n",
    "for word in words:\n",
    "    #dir(word)\n",
    "    #word.angles\n",
    "    points = []\n",
    "    multiplier = 1\n",
    "    for character in word.characters:\n",
    "        #print \"(\",character.x,\", \",character.y,\")\"\n",
    "        #print \"nn: \", character.nearestNeighbors\n",
    "        points.append([character.x, character.y])\n",
    "    points.sort(key=lambda x: x[0])\n",
    "    #print(points)\n",
    "    w = max(points,key=lambda x: x[0])[0]-min(points,key=lambda x: x[0])[0]\n",
    "    #print(w)\n",
    "    h = max(points,key=lambda x: x[1])[1]-min(points,key=lambda x: x[1])[1]\n",
    "    #print(h)\n",
    "    dx, dy, x0, y0 = cv2.fitLine(numpy.array(points), cv2.cv.CV_DIST_L2, 0, 0.01, 0.01)\n",
    "    start = (int(x0 - dx*w/2), int(y0 - dy*w/2))\n",
    "    #start = (int(x0 - dx*w), int(y0 - dy*w))\n",
    "    end = (int(x0 + dx*w/2), int(y0 + dy*w/2))\n",
    "    #end = (int(x0 + dx*w), int(y0 + dy*w))\n",
    "    #angle = self.calculateAngle(self.start, self.end)\n",
    "    cv2.line(greyscaleImage, start, end, (0,0,255),5)\n"
   ]
  },
  {
   "cell_type": "code",
   "execution_count": null,
   "metadata": {
    "collapsed": false
   },
   "outputs": [],
   "source": [
    "boundingBox = [800,800]\n",
    "maxDimension = Dimension(boundingBox[0], boundingBox[1])\n",
    "displayDimension = Dimension(greyscaleImage.shape[1], greyscaleImage.shape[0])\n",
    "displayDimension.fitInside(maxDimension)\n",
    "greyscaleImage = cv2.resize(greyscaleImage, tuple(displayDimension))\n",
    "cv2.namedWindow('fit line', cv2.CV_WINDOW_AUTOSIZE)\n",
    "cv2.imshow('fit line', greyscaleImage)\n",
    "cv2.waitKey()"
   ]
  },
  {
   "cell_type": "code",
   "execution_count": null,
   "metadata": {
    "collapsed": false
   },
   "outputs": [],
   "source": [
    "#save\n",
    "cv2.imwrite(outputPath, greyscaleImage)"
   ]
  },
  {
   "cell_type": "code",
   "execution_count": null,
   "metadata": {
    "collapsed": false
   },
   "outputs": [],
   "source": [
    "print \"Total \", len(words), \" words are found.\"\n",
    "for idx, word in enumerate(words):\n",
    "    print \"[\",idx,\"] word:\"\n",
    "    for idx_char, character in enumerate(word.characters):\n",
    "        print \"**[\", idx_char, \"] char info.. \", \"(\",character.x,\",\",character.y,\")\""
   ]
  },
  {
   "cell_type": "code",
   "execution_count": null,
   "metadata": {
    "collapsed": false
   },
   "outputs": [],
   "source": [
    "\n",
    "#dir(word)\n",
    "#word.angles\n",
    "points = []\n",
    "multiplier = 1\n",
    "for character in word.characters:\n",
    "    #print \"(\",character.x,\", \",character.y,\")\"\n",
    "    points.append([character.x, character.y])\n",
    "points.sort(key=lambda x: x[0])\n",
    "print(points)\n",
    "w = max(points,key=lambda x: x[0])[0]-min(points,key=lambda x: x[0])[0]\n",
    "print(w)\n",
    "h = max(points,key=lambda x: x[1])[1]-min(points,key=lambda x: x[1])[1]\n",
    "print(h)\n",
    "dx, dy, x0, y0 = cv2.fitLine(numpy.array(points), cv2.cv.CV_DIST_L2, 0, 0.01, 0.01)\n",
    "#start = (int(x0 - dx*multiplier), int(y0 - dy*multiplier))\n",
    "start = (int(x0 - dx*w), int(y0 - dy*w))\n",
    "#end = (int(x0 + dx*multiplier), int(y0 + dy*multiplier))\n",
    "end = (int(x0 + dx*w), int(y0 + dy*w))\n",
    "#angle = self.calculateAngle(self.start, self.end)\n",
    "cv2.line(greyscaleImage, start, end, (0,0,255),5)\n",
    "\n",
    "        \n",
    "print \"dx: \",dx, \", dy: \",dy, \", x0: \",x0,\", y0: \",y0\n",
    "print \"start: \",start,\", end: \",end#,\", angle: \", angle\n",
    "\n",
    "\n",
    "\n",
    "cv2.namedWindow('fit line', cv2.CV_WINDOW_AUTOSIZE)\n",
    "cv2.imshow('fit line', greyscaleImage)\n",
    "cv2.waitKey()"
   ]
  },
  {
   "cell_type": "code",
   "execution_count": null,
   "metadata": {
    "collapsed": false
   },
   "outputs": [],
   "source": [
    "char = word.characters.pop()"
   ]
  },
  {
   "cell_type": "code",
   "execution_count": null,
   "metadata": {
    "collapsed": false
   },
   "outputs": [],
   "source": [
    "print \"(\", char.x, \", \", char.y, \")\""
   ]
  },
  {
   "cell_type": "code",
   "execution_count": null,
   "metadata": {
    "collapsed": false
   },
   "outputs": [],
   "source": [
    "dir(char)"
   ]
  },
  {
   "cell_type": "code",
   "execution_count": null,
   "metadata": {
    "collapsed": false
   },
   "outputs": [],
   "source": [
    "# DOCSTRUM PLOTING TEST\n",
    "import numpy as np\n",
    "import matplotlib.pyplot as plt\n",
    "# radtodeg(0.5880026035475674) = 33.6901\n",
    "# radtodeg(0.21687361566640817) = 12.4259\n",
    "#theta = [np.pi+(0.5880026035475674), np.pi+0.21687361566640817, 2*np.pi-(0.5880026035475674), 2*np.pi-(0.21687361566640817)] \n",
    "theta = [1/2*np.pi+(0.5880026035475674), 1/2*np.pi+(0.21687361566640817),3/2*np.pi+(0.5880026035475674), 3/2*np.pi+(0.21687361566640817)] \n",
    "r = [57.688820407423826, 60.41522986797286, 57.688820407423826, 60.41522986797286]\n",
    "fig = plt.figure()\n",
    "ax = plt.subplot(111,polar=True)\n",
    "ax.scatter(theta,r)\n",
    "plt.savefig(os.path.join(os.path.abspath(\"./docstrums\"),'foo'))\n",
    "plt.show()"
   ]
  }
 ],
 "metadata": {
  "kernelspec": {
   "display_name": "Python 2",
   "language": "python",
   "name": "python2"
  },
  "language_info": {
   "codemirror_mode": {
    "name": "ipython",
    "version": 2
   },
   "file_extension": ".py",
   "mimetype": "text/x-python",
   "name": "python",
   "nbconvert_exporter": "python",
   "pygments_lexer": "ipython2",
   "version": "2.7.13"
  }
 },
 "nbformat": 4,
 "nbformat_minor": 2
}
